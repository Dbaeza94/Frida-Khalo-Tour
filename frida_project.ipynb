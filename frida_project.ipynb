{
  "cells": [
    {
      "cell_type": "markdown",
      "metadata": {
        "id": "view-in-github",
        "colab_type": "text"
      },
      "source": [
        "<a href=\"https://colab.research.google.com/github/Dbaeza94/Frida-Khalo-Tour/blob/main/frida_project.ipynb\" target=\"_parent\"><img src=\"https://colab.research.google.com/assets/colab-badge.svg\" alt=\"Open In Colab\"/></a>"
      ]
    },
    {
      "cell_type": "markdown",
      "metadata": {
        "id": "z48AICvMhm8q"
      },
      "source": [
        "# Frida Kahlo Exhibition\n",
        "\n",
        "You've been hired to work on a retrospective of Frida Kahlo's work at a major museum. Your job is to put together the audio tour, but in order to do that you need to create a list of each painting featured in the exhibit, the date it was painted, and its spot in the tour. \n",
        "\n",
        "Use your knowledge of Python lists to create a master list of each painting, its date, and its audio tour ID. \n"
      ]
    },
    {
      "cell_type": "markdown",
      "metadata": {
        "id": "c_DSYXBehm8v"
      },
      "source": [
        "## Task 1\n",
        "First, create a list called `paintings` and add the following titles to it:\n",
        "\n",
        "`The Two Fridas, My Dress Hangs Here, Tree of Hope, Self Portrait With Monkeys`\n"
      ]
    },
    {
      "cell_type": "code",
      "execution_count": 11,
      "metadata": {
        "collapsed": true,
        "id": "0T0cAMm1hm8w"
      },
      "outputs": [],
      "source": [
        "paintings = [\"The Two Fridas\", \"My Dress Hangs Here\", \"Tree of Hope\", \"Self Portrait With Monkeys\"]"
      ]
    },
    {
      "cell_type": "markdown",
      "metadata": {
        "id": "OAq0OpsUhm8x"
      },
      "source": [
        "## Task 2\n",
        "\n",
        "Next, create a second list called `dates` and give it the following values:\n",
        "`1939, 1933, 1946, 1940`"
      ]
    },
    {
      "cell_type": "code",
      "execution_count": 12,
      "metadata": {
        "collapsed": true,
        "id": "g-WkRoVGhm8y"
      },
      "outputs": [],
      "source": [
        "dates = [1939, 1933, 1946, 1940]"
      ]
    },
    {
      "cell_type": "markdown",
      "metadata": {
        "id": "etvItOdXhm8y"
      },
      "source": [
        "## Task 3 \n",
        "It doesn't do much good to have the paintings without their dates, and vice versa. \n",
        "Zip together the two lists so that each painting is paired with its date and resave it to the `paintings` variable. Make sure to convert the zipped object into a list using the `list()` function. Print the results to the terminal to check your work. "
      ]
    },
    {
      "cell_type": "code",
      "execution_count": 14,
      "metadata": {
        "collapsed": true,
        "colab": {
          "base_uri": "https://localhost:8080/"
        },
        "id": "qke_4M_dhm8z",
        "outputId": "778f9f2e-6f56-482d-d8d7-56bdc6be1428"
      },
      "outputs": [
        {
          "output_type": "stream",
          "name": "stdout",
          "text": [
            "[('The Two Fridas', 1939), ('My Dress Hangs Here', 1933), ('Tree of Hope', 1946), ('Self Portrait With Monkeys', 1940)]\n"
          ]
        }
      ],
      "source": [
        "# We can make the variable zipping to not mix varibles and have issues when we resave paintings' variable\n",
        "zipping = list(zip(paintings, dates))\n",
        "paintings = zipping\n",
        "print(paintings)"
      ]
    },
    {
      "cell_type": "markdown",
      "metadata": {
        "id": "pHYbkzMhhm8z"
      },
      "source": [
        "## Task 4\n",
        "There were some last minute additions to the show that we need to add to our list. Append the following paintings to our `paintings` list then re-print to check they were added correctly:\n",
        "- 'The Broken Column', 1944\n",
        "- 'The Wounded Deer', 1946\n",
        "- 'Me and My Doll', 1937\n",
        "\n",
        "Hint: Make sure to append each painting individually and that you're appending them as tuples, not lists. "
      ]
    },
    {
      "cell_type": "code",
      "execution_count": 15,
      "metadata": {
        "collapsed": true,
        "colab": {
          "base_uri": "https://localhost:8080/"
        },
        "id": "ZYycjbdnhm80",
        "outputId": "ee38d8c3-744a-4252-a097-f74955a81c89"
      },
      "outputs": [
        {
          "output_type": "stream",
          "name": "stdout",
          "text": [
            "[('The Two Fridas', 1939), ('My Dress Hangs Here', 1933), ('Tree of Hope', 1946), ('Self Portrait With Monkeys', 1940), ('The Broken Column', 1944), ('The Wounded Deer', 1946), ('Me and My Doll', 1937)]\n"
          ]
        }
      ],
      "source": [
        "# We add () to append as tuple to our list\n",
        "paintings.append(('The Broken Column', 1944))\n",
        "paintings.append(('The Wounded Deer', 1946))\n",
        "paintings.append(('Me and My Doll', 1937))\n",
        "print(paintings)"
      ]
    },
    {
      "cell_type": "markdown",
      "metadata": {
        "id": "vKqtjr8Chm80"
      },
      "source": [
        "## Task 5\n",
        "Since each of these paintings is going to be in the audio tour, they each need a unique identification number.\n",
        "But before we assign them a number, we first need to check how many paintings there are in total.\n",
        "\n",
        "Find the length of the `paintings` list."
      ]
    },
    {
      "cell_type": "code",
      "execution_count": 21,
      "metadata": {
        "collapsed": true,
        "colab": {
          "base_uri": "https://localhost:8080/"
        },
        "id": "yf94AYoThm81",
        "outputId": "14d0b69d-217b-4823-db78-23a98aca0b58"
      },
      "outputs": [
        {
          "output_type": "stream",
          "name": "stdout",
          "text": [
            "the lengh of our list is: 7 elements.\n"
          ]
        }
      ],
      "source": [
        "# Find the length of the paintings list\n",
        "lengh_paintings = len(paintings)\n",
        "print(\"the lengh of our list is: \" + str(lengh_paintings) + \" elements.\")\n",
        "\n"
      ]
    },
    {
      "cell_type": "markdown",
      "metadata": {
        "id": "uO_OzAlHhm81"
      },
      "source": [
        "## Task 6\n",
        "Use the `range` method to generate a list of identification numbers that starts at 1 and is equal in length to our list of items. \n",
        "Save the list to the variable `audio_tour_number` and check your work by printing the list."
      ]
    },
    {
      "cell_type": "code",
      "execution_count": 29,
      "metadata": {
        "collapsed": true,
        "colab": {
          "base_uri": "https://localhost:8080/"
        },
        "id": "qqUJfV1Khm81",
        "outputId": "541def1a-6929-4555-c228-686f43f475d0"
      },
      "outputs": [
        {
          "output_type": "stream",
          "name": "stdout",
          "text": [
            "aggregating number adding 1 to our first place 0\n",
            "[1]\n",
            "aggregating number adding 1 to our first place 1\n",
            "[1, 2]\n",
            "aggregating number adding 1 to our first place 2\n",
            "[1, 2, 3]\n",
            "aggregating number adding 1 to our first place 3\n",
            "[1, 2, 3, 4]\n",
            "aggregating number adding 1 to our first place 4\n",
            "[1, 2, 3, 4, 5]\n",
            "aggregating number adding 1 to our first place 5\n",
            "[1, 2, 3, 4, 5, 6]\n",
            "aggregating number adding 1 to our first place 6\n",
            "[1, 2, 3, 4, 5, 6, 7]\n"
          ]
        }
      ],
      "source": [
        "audio_tour_number = []\n",
        "for audio in range(7):\n",
        "  # We can use print function to check what is doing our for loop\n",
        "  print(\"aggregating number adding 1 to our first place \" + str(audio))\n",
        "  # We add a \"+ 1\" to not affect our range function and start at 1 in our new list\n",
        "  audio_tour_number.append((audio + 1))\n",
        "  # And finally is a good practice to check our \n",
        "  print(audio_tour_number)"
      ]
    },
    {
      "cell_type": "markdown",
      "metadata": {
        "id": "MkmTzFcuhm82"
      },
      "source": [
        "## Task 7 \n",
        "\n",
        "We're finally read to create our master list. \n",
        "Zip the `audio_tour_number` list to the `paintings` list and save it as `master_list`.\n",
        "\n",
        "Hint: Make sure to convert the zipped object into a list using the `list()` function."
      ]
    },
    {
      "cell_type": "code",
      "execution_count": 31,
      "metadata": {
        "collapsed": true,
        "id": "qZasOzphhm82"
      },
      "outputs": [],
      "source": [
        "master_list = list(zip(audio_tour_number, paintings))\n"
      ]
    },
    {
      "cell_type": "markdown",
      "metadata": {
        "id": "r0No5D4ghm82"
      },
      "source": [
        "## Task 8 \n",
        "Print the `master_list` to the terminal."
      ]
    },
    {
      "cell_type": "code",
      "execution_count": 32,
      "metadata": {
        "collapsed": true,
        "colab": {
          "base_uri": "https://localhost:8080/"
        },
        "id": "f623MlkIhm83",
        "outputId": "fd691465-66a0-4dfb-c873-172337441714"
      },
      "outputs": [
        {
          "output_type": "stream",
          "name": "stdout",
          "text": [
            "Master list to know the audio for every painting at the tour: [(1, ('The Two Fridas', 1939)), (2, ('My Dress Hangs Here', 1933)), (3, ('Tree of Hope', 1946)), (4, ('Self Portrait With Monkeys', 1940)), (5, ('The Broken Column', 1944)), (6, ('The Wounded Deer', 1946)), (7, ('Me and My Doll', 1937))]\n"
          ]
        }
      ],
      "source": [
        "print(\"Master list to know the audio for every painting at the tour: \" + str(master_list ))"
      ]
    }
  ],
  "metadata": {
    "kernelspec": {
      "display_name": "Python 3",
      "language": "python",
      "name": "python3"
    },
    "language_info": {
      "codemirror_mode": {
        "name": "ipython",
        "version": 3
      },
      "file_extension": ".py",
      "mimetype": "text/x-python",
      "name": "python",
      "nbconvert_exporter": "python",
      "pygments_lexer": "ipython3",
      "version": "3.6.2"
    },
    "colab": {
      "provenance": [],
      "include_colab_link": true
    }
  },
  "nbformat": 4,
  "nbformat_minor": 0
}